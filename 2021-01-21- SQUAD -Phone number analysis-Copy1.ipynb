{
 "cells": [
  {
   "cell_type": "code",
   "execution_count": 219,
   "metadata": {},
   "outputs": [
    {
     "name": "stdout",
     "output_type": "stream",
     "text": [
      "\f",
      "\n"
     ]
    }
   ],
   "source": [
    "#Step 0: Restarting the session and Clearning all temporary variables----------------------------\n",
    "\n",
    "try:\n",
    "    from IPython import get_ipython\n",
    "    get_ipython().magic('clear')\n",
    "    get_ipython().magic('reset -f')\n",
    "except:\n",
    "    pass"
   ]
  },
  {
   "cell_type": "code",
   "execution_count": 220,
   "metadata": {},
   "outputs": [],
   "source": [
    "# step 1 : import libraries \n",
    "\n",
    "import numpy as np\n",
    "import pandas as pd\n",
    "from pandas import Series\n",
    "from pandas import DataFrame\n",
    "import pandas_datareader as pdr\n",
    "from matplotlib import pyplot as plt\n",
    "import math\n",
    "import datetime\n",
    "from pandas.tseries.holiday import USFederalHolidayCalendar\n",
    "from pandas.tseries.holiday import Holiday, USMemorialDay, AbstractHolidayCalendar, nearest_workday, MO\n",
    "import seaborn as sns\n",
    "from scipy.stats import norm, linregress\n",
    "import statsmodels.formula.api as smf\n",
    "#import empiricaldist\n",
    "from sqlalchemy import create_engine\n",
    "from zlib import crc32"
   ]
  },
  {
   "cell_type": "code",
   "execution_count": 221,
   "metadata": {},
   "outputs": [],
   "source": [
    "# step 2 : create a function that from each Whatsapp message file, gets the phone number of the users being active\n",
    "\n",
    "def cellphone(file):\n",
    "    \"\"\"\n",
    "    :param file: name of the whatspp file after been read by pd.read_csv()\n",
    "    :return: a Series of phonenumbers of the users in a whatsapp chat group.\n",
    "    \"\"\"\n",
    "\n",
    "    # take the number of rows assing it to n\n",
    "    n = file.shape[1]\n",
    "    \n",
    "    #create a name for dataframe columns (here col names are numbers)\n",
    "    file.columns=list(range(n))\n",
    "    \n",
    "    # retrieve the first column (there is almost nothing in other columns)\n",
    "    file_col=file[0]\n",
    "\n",
    "    # iterate in each row to split the words (there is no space between phone numbers). They are considered as a word!\n",
    "    s=[]\n",
    "    for i in range(file.shape[0]):\n",
    "        s.append(str(file_col.iloc[i]).split(' '))\n",
    "    \n",
    "    #iterate over each item in 's' and take any word that begins with '+' and ends in ':'\n",
    "    m=[]\n",
    "    for j in s:\n",
    "        for i in j:\n",
    "            if ':' and '+98' in i:\n",
    "                m.append(i.replace(':', ''))\n",
    "\n",
    "    #convert the list of phone numbers into a DF, drop duplicates and reset index.\n",
    "    tel = pd.DataFrame(m).drop_duplicates().reset_index()\n",
    "    return tel\n"
   ]
  },
  {
   "cell_type": "code",
   "execution_count": 222,
   "metadata": {},
   "outputs": [
    {
     "name": "stdout",
     "output_type": "stream",
     "text": [
      "                   Phone\n",
      "0     ‪+98 912 833 8508‬\n",
      "1     ‪+98 919 216 4319‬\n",
      "2     ‪+98 912 811 5488‬\n",
      "3     ‪+98 937 100 1288‬\n",
      "4     ‪+98 922 502 4320‬\n",
      "..                   ...\n",
      "654  ‎‪+98 991 565 7994‬\n",
      "655  ‎‪+98 930 673 6072‬\n",
      "656  ‎‪+98 912 376 1369‬\n",
      "657  ‎‪+98 939 586 1061‬\n",
      "658  ‎‪+98 917 623 9945‬\n",
      "\n",
      "[369 rows x 1 columns]\n"
     ]
    }
   ],
   "source": [
    "# step 3 : retrieve the phonenumber of ACTIVE users from Whatsapp groups (mentioned in below): \n",
    "\n",
    "#name of whatsApp files\n",
    "string = ['-chat 0.txt', '-chat 1.txt','-chat 2.txt', '-chat 3.txt', '-chat 4.txt', '-chat 5.txt', '-chat 6.txt', '-chat 7.txt']\n",
    "\n",
    "#using 'cellphone()' function defined earlier, we get the numbers of each file\n",
    "d={}\n",
    "\n",
    "for i in range(len(string)):\n",
    "    file = cellphone(pd.read_csv(string[i]))\n",
    "    d[i]=file[0]\n",
    "\n",
    "#convert the dictionary containg numbers for each file into a DataFrame (each col in the df will correspond to a file)\n",
    "df= pd.DataFrame(d)\n",
    "\n",
    "#contactenate all the cols of the DataFrame\n",
    "dg=pd.concat([df[0], df[1],df[2],df[3],df[4],df[5],df[6], df[7]], axis=0)\n",
    "\n",
    "#reset the index and drop NaNs\n",
    "dg= dg.reset_index().dropna()\n",
    "\n",
    "#give the name 'Phone' to the col containg phone numbers\n",
    "dg.rename(columns={0:'Phone'}, inplace=True)\n",
    "\n",
    "#drop the col called 'index' after reindexing\n",
    "dg= dg.drop(['index'], axis=1)\n",
    "print(dg)\n",
    "\n",
    "#save the file into a .csv\n",
    "dg.to_csv('phone_num.csv', index=False)"
   ]
  },
  {
   "cell_type": "code",
   "execution_count": 223,
   "metadata": {},
   "outputs": [
    {
     "name": "stdout",
     "output_type": "stream",
     "text": [
      "            Phone\n",
      "0    3.365682e+10\n",
      "1    9.891214e+11\n",
      "2    9.891091e+11\n",
      "3    9.891001e+11\n",
      "4    9.890173e+11\n",
      "..            ...\n",
      "653  9.891666e+11\n",
      "654  9.893589e+11\n",
      "655  9.893719e+11\n",
      "656  9.891773e+11\n",
      "657  9.892250e+11\n",
      "\n",
      "[515 rows x 1 columns]\n"
     ]
    }
   ],
   "source": [
    "# step 4 : retrieve the phonenumber of ALL users from Whatsapp groups (mentioned in below):\n",
    "\n",
    "string = ['group_01.csv', 'group_02.csv','group_03.csv', 'group_04.csv', 'group_05.csv', 'group_06.csv']\n",
    "\n",
    "d={}\n",
    "\n",
    "for i in range(len(string)):\n",
    "    file = pd.read_csv(string[i])\n",
    "    d[i]=file['Phone']\n",
    "\n",
    "df= pd.DataFrame(d)\n",
    "dg=pd.concat([df[0], df[1],df[2],df[3],df[4],df[5]], axis=0)\n",
    "\n",
    "\n",
    "dg= dg.reset_index().dropna()\n",
    "dg.rename(columns={0:'Phone'}, inplace=True)\n",
    "\n",
    "dg= dg.drop(['index'], axis=1)\n",
    "\n",
    "print(dg)\n",
    "dg.to_csv('phone_num_all.csv', index=False)"
   ]
  },
  {
   "cell_type": "code",
   "execution_count": 260,
   "metadata": {},
   "outputs": [
    {
     "name": "stdout",
     "output_type": "stream",
     "text": [
      "<class 'pandas.core.frame.DataFrame'>\n",
      "Int64Index: 241 entries, 0 to 365\n",
      "Data columns (total 1 columns):\n",
      " #   Column  Non-Null Count  Dtype \n",
      "---  ------  --------------  ----- \n",
      " 0   Phone   241 non-null    object\n",
      "dtypes: object(1)\n",
      "memory usage: 3.8+ KB\n",
      "None\n"
     ]
    }
   ],
   "source": [
    "phone_active = pd.read_csv('phone_num.csv')\n",
    "phone_all=pd.read_csv('phone_num_all.csv')\n",
    "\n",
    "phone_active.drop_duplicates(keep='first', inplace=True)\n",
    "phone_all.drop_duplicates(keep='first', inplace=True)\n",
    "\n",
    "print(phone_active.info())"
   ]
  },
  {
   "cell_type": "code",
   "execution_count": 261,
   "metadata": {},
   "outputs": [],
   "source": [
    "# strip everything that is not digit\n",
    "\n",
    "phone_active['Phone']=phone_active['Phone'].str.replace(r'\\D+','')\n",
    "\n",
    "phone_all=phone_all.astype(str)\n",
    "phone_all['Phone']=phone_all['Phone'].str.replace(r'\\D+','')\n",
    "\n",
    "#get only 12 charachters from phone_all numbers\n",
    "phone_all['Phone']=phone_all['Phone'].str[:12]\n",
    "\n",
    "\n",
    "phone_all= phone_all.reset_index()\n",
    "phone_active = phone_active.reset_index()\n",
    "\n"
   ]
  },
  {
   "cell_type": "code",
   "execution_count": 262,
   "metadata": {},
   "outputs": [
    {
     "name": "stdout",
     "output_type": "stream",
     "text": [
      "45 98\n",
      "102 98\n",
      "105 98\n",
      "[45, 102, 105]\n"
     ]
    }
   ],
   "source": [
    "# identify non-conform numbers : those that don't begin with '98' or those which are less than 12 digits\n",
    "\n",
    "aa=[]\n",
    "for i in range(phone_active.shape[0]):\n",
    "    if len(phone_active['Phone'].iloc[i])<12:\n",
    "        aa.append(i)\n",
    "        print(i, phone_active['Phone'].iloc[i])\n",
    "        \n",
    "for i in range(phone_active.shape[0]):\n",
    "    if phone_active['Phone'].iloc[i][:2] !='98':\n",
    "        aa.append(i)\n",
    "        print(i, phone_active['Phone'].iloc[i])\n",
    "        \n",
    "print(aa)\n"
   ]
  },
  {
   "cell_type": "code",
   "execution_count": 263,
   "metadata": {},
   "outputs": [
    {
     "name": "stdout",
     "output_type": "stream",
     "text": [
      "0 336568176890\n",
      "5 447983246758\n",
      "6 447570804898\n",
      "7 316218745220\n",
      "9 447871731376\n",
      "57 447909725682\n",
      "58 393318971569\n",
      "228 447711812788\n",
      "[0, 5, 6, 7, 9, 57, 58, 228]\n"
     ]
    }
   ],
   "source": [
    "bb=[]\n",
    "\n",
    "for i in range(phone_all.shape[0]):\n",
    "    if len(phone_all['Phone'].iloc[i])<12:\n",
    "        bb.append(i)\n",
    "        print(i, phone_all['Phone'].iloc[i])\n",
    "        \n",
    "for i in range(phone_all.shape[0]):\n",
    "    if phone_all['Phone'].iloc[i][:2] !='98':\n",
    "        bb.append(i)\n",
    "        print(i, phone_all['Phone'].iloc[i])\n",
    "        \n",
    "        \n",
    "print(bb)"
   ]
  },
  {
   "cell_type": "code",
   "execution_count": 264,
   "metadata": {},
   "outputs": [],
   "source": [
    "# drop non-conform numbers\n",
    "phone_active.drop(aa, inplace=True)\n",
    "phone_all.drop(bb, inplace=True)"
   ]
  },
  {
   "cell_type": "code",
   "execution_count": 265,
   "metadata": {},
   "outputs": [
    {
     "name": "stdout",
     "output_type": "stream",
     "text": [
      "Number of active users in whatsapp groups: 238\n"
     ]
    }
   ],
   "source": [
    "print('Number of active users in whatsapp groups since the creation of groups:', phone_active.shape[0])\n"
   ]
  },
  {
   "cell_type": "code",
   "execution_count": 266,
   "metadata": {},
   "outputs": [
    {
     "name": "stdout",
     "output_type": "stream",
     "text": [
      "Number of all users in whatsapp groups: 356\n"
     ]
    }
   ],
   "source": [
    "print('Number of all users in whatsapp groups:', phone_all.shape[0])"
   ]
  },
  {
   "cell_type": "code",
   "execution_count": 267,
   "metadata": {},
   "outputs": [
    {
     "name": "stdout",
     "output_type": "stream",
     "text": [
      "Percentage of whatsapp active users:66.85 %\n"
     ]
    }
   ],
   "source": [
    "#calculate the precentage\n",
    "percentage= phone_active.shape[0]*100 / phone_all.shape[0]\n",
    "\n",
    "print(f'Percentage of whatsapp active users:{round(percentage,2)} %')"
   ]
  },
  {
   "cell_type": "code",
   "execution_count": 268,
   "metadata": {},
   "outputs": [
    {
     "name": "stdout",
     "output_type": "stream",
     "text": [
      "Number of active users that are still present in groups: 151\n"
     ]
    }
   ],
   "source": [
    "df_merge= phone_all.merge(phone_active, on='Phone', how='inner', indicator=False)\n",
    "df_merge= df_merge.drop_duplicates()\n",
    "print('Number of active users that are still present in groups:', df_merge.shape[0])"
   ]
  },
  {
   "cell_type": "code",
   "execution_count": 269,
   "metadata": {},
   "outputs": [
    {
     "name": "stdout",
     "output_type": "stream",
     "text": [
      "Number of users that have left groups (min):  87\n"
     ]
    }
   ],
   "source": [
    "print('Number of users that have left groups (min): ', phone_active.shape[0]-df_merge.shape[0])"
   ]
  },
  {
   "cell_type": "code",
   "execution_count": 270,
   "metadata": {},
   "outputs": [
    {
     "name": "stdout",
     "output_type": "stream",
     "text": [
      "      index         Phone\n",
      "0         0  989133260467\n",
      "1         1  989188311169\n",
      "2         2  989177106525\n",
      "3         3  989126956235\n",
      "4         4  989133173190\n",
      "...     ...           ...\n",
      "1427   1427  989027675649\n",
      "1428   1428  989123140587\n",
      "1429   1429  989307876365\n",
      "1430   1430  989120495422\n",
      "1431   1431  989120495422\n",
      "\n",
      "[1432 rows x 2 columns]\n"
     ]
    }
   ],
   "source": [
    "# Reading the phone numbers from website dataset\n",
    "df= pd.read_excel('orders_3.xlsx')\n",
    "df['Phone']=980000000000 +df['Phone (Billing)']\n",
    "df['phone']= df['Phone'].astype(str)\n",
    "\n",
    "dg =df['Phone'].dropna()\n",
    "dg= dg.reset_index()\n",
    "dg = dg.drop_duplicates()\n",
    "\n",
    "print(dg)"
   ]
  },
  {
   "cell_type": "code",
   "execution_count": 271,
   "metadata": {},
   "outputs": [
    {
     "name": "stdout",
     "output_type": "stream",
     "text": [
      "<class 'pandas.core.frame.DataFrame'>\n",
      "Int64Index: 1432 entries, 0 to 1431\n",
      "Data columns (total 2 columns):\n",
      " #   Column  Non-Null Count  Dtype \n",
      "---  ------  --------------  ----- \n",
      " 0   index   1432 non-null   object\n",
      " 1   Phone   1432 non-null   object\n",
      "dtypes: object(2)\n",
      "memory usage: 33.6+ KB\n",
      "None\n"
     ]
    }
   ],
   "source": [
    "dg=dg.astype(str)\n",
    "print(dg.info())"
   ]
  },
  {
   "cell_type": "code",
   "execution_count": 272,
   "metadata": {},
   "outputs": [],
   "source": [
    "df_dg=dg.merge(phone_all, on='Phone', how='inner')\n",
    "df_dg=df_dg['Phone'].drop_duplicates()"
   ]
  },
  {
   "cell_type": "code",
   "execution_count": 273,
   "metadata": {},
   "outputs": [],
   "source": [
    "df_dg= df_dg.reset_index()"
   ]
  },
  {
   "cell_type": "code",
   "execution_count": 274,
   "metadata": {},
   "outputs": [
    {
     "name": "stdout",
     "output_type": "stream",
     "text": [
      "Number of whatsapp users (phone numbers) who have done shopping from website: 117\n"
     ]
    }
   ],
   "source": [
    "print('Number of whatsapp users (phone numbers) who have done shopping from website:', df_dg.shape[0])"
   ]
  },
  {
   "cell_type": "code",
   "execution_count": 276,
   "metadata": {},
   "outputs": [
    {
     "name": "stdout",
     "output_type": "stream",
     "text": [
      "percentage of clients coming from Whatsapp: 32.87\n"
     ]
    }
   ],
   "source": [
    "x = df_dg.shape[0] *100/ phone_all.shape[0]\n",
    "print('percentage of clients coming from Whatsapp:', round(x,2))"
   ]
  },
  {
   "cell_type": "code",
   "execution_count": 277,
   "metadata": {},
   "outputs": [
    {
     "name": "stdout",
     "output_type": "stream",
     "text": [
      "percentage of clients coming from Whatsapp active clients: 49.16\n"
     ]
    }
   ],
   "source": [
    "y = df_dg.shape[0] *100/ phone_active.shape[0]\n",
    "print('percentage of clients coming from Whatsapp active clients:', round(y,2))"
   ]
  },
  {
   "cell_type": "code",
   "execution_count": null,
   "metadata": {},
   "outputs": [],
   "source": []
  }
 ],
 "metadata": {
  "kernelspec": {
   "display_name": "Python 3",
   "language": "python",
   "name": "python3"
  },
  "language_info": {
   "codemirror_mode": {
    "name": "ipython",
    "version": 3
   },
   "file_extension": ".py",
   "mimetype": "text/x-python",
   "name": "python",
   "nbconvert_exporter": "python",
   "pygments_lexer": "ipython3",
   "version": "3.7.6"
  }
 },
 "nbformat": 4,
 "nbformat_minor": 4
}
